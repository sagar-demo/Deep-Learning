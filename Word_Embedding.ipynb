{
  "nbformat": 4,
  "nbformat_minor": 0,
  "metadata": {
    "colab": {
      "name": "Word Embedding.ipynb",
      "provenance": [],
      "private_outputs": true,
      "collapsed_sections": []
    },
    "kernelspec": {
      "name": "python3",
      "display_name": "Python 3"
    },
    "accelerator": "GPU"
  },
  "cells": [
    {
      "cell_type": "code",
      "metadata": {
        "id": "oguF-iQ7ajQd",
        "colab_type": "code",
        "colab": {}
      },
      "source": [
        "###word embedding using Embedding Layer in Keras\n",
        "from tensorflow.keras.preprocessing.text import one_hot"
      ],
      "execution_count": null,
      "outputs": []
    },
    {
      "cell_type": "code",
      "metadata": {
        "id": "EsDfQURhbC-4",
        "colab_type": "code",
        "colab": {}
      },
      "source": [
        "###sentences\n",
        "sent=['the glass of milk',\n",
        "      'the glass of juice',\n",
        "      'i am a good boy',\n",
        "      'i am a good developer',\n",
        "      'unsertand the meaning of words',\n",
        "      'your videos are good']"
      ],
      "execution_count": null,
      "outputs": []
    },
    {
      "cell_type": "code",
      "metadata": {
        "id": "9Y-m_xefcAWW",
        "colab_type": "code",
        "colab": {}
      },
      "source": [
        "\n",
        "sent"
      ],
      "execution_count": null,
      "outputs": []
    },
    {
      "cell_type": "code",
      "metadata": {
        "id": "kourzlgtcBok",
        "colab_type": "code",
        "colab": {}
      },
      "source": [
        "##vocabulary size\n",
        "voc_size=10000"
      ],
      "execution_count": null,
      "outputs": []
    },
    {
      "cell_type": "code",
      "metadata": {
        "id": "mbTlK4MDczhx",
        "colab_type": "code",
        "colab": {}
      },
      "source": [
        "###One Hot Representation\n",
        "one_hot_repr=[one_hot(words,voc_size)for words in sent]\n",
        "print(one_hot_repr)"
      ],
      "execution_count": null,
      "outputs": []
    },
    {
      "cell_type": "code",
      "metadata": {
        "id": "g8-VeuEudo4-",
        "colab_type": "code",
        "colab": {}
      },
      "source": [
        "###word  embedding represention\n",
        "from tensorflow.keras.layers import Embedding\n",
        "from tensorflow.keras.preprocessing.sequence import pad_sequences\n",
        "from tensorflow.keras.models import Sequential"
      ],
      "execution_count": null,
      "outputs": []
    },
    {
      "cell_type": "code",
      "metadata": {
        "id": "4-hZkDV6mRTY",
        "colab_type": "code",
        "colab": {}
      },
      "source": [
        "import numpy as np"
      ],
      "execution_count": null,
      "outputs": []
    },
    {
      "cell_type": "code",
      "metadata": {
        "id": "_PqQwnUJmgw_",
        "colab_type": "code",
        "colab": {}
      },
      "source": [
        "sent_length=8\n",
        "embedded_doc=pad_sequences(one_hot_repr,padding='pre',maxlen=sent_length)\n",
        "print(embedded_doc)"
      ],
      "execution_count": null,
      "outputs": []
    },
    {
      "cell_type": "code",
      "metadata": {
        "id": "9FJaPHY9m6cH",
        "colab_type": "code",
        "colab": {}
      },
      "source": [
        "dim=10"
      ],
      "execution_count": null,
      "outputs": []
    },
    {
      "cell_type": "code",
      "metadata": {
        "id": "gptq9DpKnN6U",
        "colab_type": "code",
        "colab": {}
      },
      "source": [
        "model=Sequential()\n",
        "model.add(Embedding(voc_size,10,input_length=sent_length))\n",
        "model.compile('adam','mse')"
      ],
      "execution_count": null,
      "outputs": []
    },
    {
      "cell_type": "code",
      "metadata": {
        "id": "Vr004fa9oTsl",
        "colab_type": "code",
        "colab": {}
      },
      "source": [
        "model.summary()"
      ],
      "execution_count": null,
      "outputs": []
    },
    {
      "cell_type": "code",
      "metadata": {
        "id": "mTGhKcBHoYh9",
        "colab_type": "code",
        "colab": {}
      },
      "source": [
        "print(model.predict(embedded_doc))"
      ],
      "execution_count": null,
      "outputs": []
    },
    {
      "cell_type": "code",
      "metadata": {
        "id": "a67uA00NotrA",
        "colab_type": "code",
        "colab": {}
      },
      "source": [
        "embedded_doc[0]"
      ],
      "execution_count": null,
      "outputs": []
    },
    {
      "cell_type": "code",
      "metadata": {
        "id": "zKxouvxWo2vb",
        "colab_type": "code",
        "colab": {}
      },
      "source": [
        "\n",
        "print(model.predict(embedded_doc[0]))"
      ],
      "execution_count": null,
      "outputs": []
    },
    {
      "cell_type": "code",
      "metadata": {
        "id": "JJ8AjdVlpQiQ",
        "colab_type": "code",
        "colab": {}
      },
      "source": [
        ""
      ],
      "execution_count": null,
      "outputs": []
    }
  ]
}