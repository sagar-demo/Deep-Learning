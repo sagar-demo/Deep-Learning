{
  "nbformat": 4,
  "nbformat_minor": 0,
  "metadata": {
    "colab": {
      "name": "Stock Price prediction And Forecasting using LSTM.ipynb",
      "provenance": [],
      "collapsed_sections": [],
      "authorship_tag": "ABX9TyPKCwShOMwu8rBORk9SrkHN",
      "include_colab_link": true
    },
    "kernelspec": {
      "name": "python3",
      "display_name": "Python 3"
    }
  },
  "cells": [
    {
      "cell_type": "markdown",
      "metadata": {
        "id": "view-in-github",
        "colab_type": "text"
      },
      "source": [
        "<a href=\"https://colab.research.google.com/github/sagar-demo/Deep-Learning/blob/master/Stock_Price_prediction_And_Forecasting_using_LSTM.ipynb\" target=\"_parent\"><img src=\"https://colab.research.google.com/assets/colab-badge.svg\" alt=\"Open In Colab\"/></a>"
      ]
    },
    {
      "cell_type": "code",
      "metadata": {
        "id": "ZiVNR0BwFYB6",
        "colab_type": "code",
        "colab": {}
      },
      "source": [
        "####Stock Market Prediction And ForeCasting Using Stacked LSTM"
      ],
      "execution_count": 1,
      "outputs": []
    },
    {
      "cell_type": "code",
      "metadata": {
        "id": "x9jIJOrZGXjE",
        "colab_type": "code",
        "colab": {
          "base_uri": "https://localhost:8080/",
          "height": 71
        },
        "outputId": "3b9186c5-9249-4e52-802b-4b75025e4723"
      },
      "source": [
        "### Data Collection\n",
        "import pandas_datareader as pdr"
      ],
      "execution_count": 2,
      "outputs": [
        {
          "output_type": "stream",
          "text": [
            "/usr/local/lib/python3.6/dist-packages/pandas_datareader/compat/__init__.py:7: FutureWarning: pandas.util.testing is deprecated. Use the functions in the public API at pandas.testing instead.\n",
            "  from pandas.util.testing import assert_frame_equal\n"
          ],
          "name": "stderr"
        }
      ]
    },
    {
      "cell_type": "code",
      "metadata": {
        "id": "MtyNI7yIJlEE",
        "colab_type": "code",
        "colab": {}
      },
      "source": [
        "df=pdr.get_data_tiingo('AAPL',api_key='6e89d8ac63b59b06c653d837553b519ede47b005')"
      ],
      "execution_count": 3,
      "outputs": []
    },
    {
      "cell_type": "code",
      "metadata": {
        "id": "gBIbKqquJ26h",
        "colab_type": "code",
        "colab": {}
      },
      "source": [
        "df.to_csv('AAPL.csv')"
      ],
      "execution_count": 4,
      "outputs": []
    },
    {
      "cell_type": "code",
      "metadata": {
        "id": "GPeck_ImMX_U",
        "colab_type": "code",
        "colab": {}
      },
      "source": [
        "import pandas as pd"
      ],
      "execution_count": 5,
      "outputs": []
    },
    {
      "cell_type": "code",
      "metadata": {
        "id": "87fTZnjoMaK_",
        "colab_type": "code",
        "colab": {}
      },
      "source": [
        "df=pd.read_csv('AAPL.csv')"
      ],
      "execution_count": 6,
      "outputs": []
    },
    {
      "cell_type": "code",
      "metadata": {
        "id": "SmEPIuCjMywO",
        "colab_type": "code",
        "colab": {
          "base_uri": "https://localhost:8080/",
          "height": 204
        },
        "outputId": "37574181-a885-48ee-be25-5d876095aa3a"
      },
      "source": [
        "df.head()"
      ],
      "execution_count": 7,
      "outputs": [
        {
          "output_type": "execute_result",
          "data": {
            "text/html": [
              "<div>\n",
              "<style scoped>\n",
              "    .dataframe tbody tr th:only-of-type {\n",
              "        vertical-align: middle;\n",
              "    }\n",
              "\n",
              "    .dataframe tbody tr th {\n",
              "        vertical-align: top;\n",
              "    }\n",
              "\n",
              "    .dataframe thead th {\n",
              "        text-align: right;\n",
              "    }\n",
              "</style>\n",
              "<table border=\"1\" class=\"dataframe\">\n",
              "  <thead>\n",
              "    <tr style=\"text-align: right;\">\n",
              "      <th></th>\n",
              "      <th>symbol</th>\n",
              "      <th>date</th>\n",
              "      <th>close</th>\n",
              "      <th>high</th>\n",
              "      <th>low</th>\n",
              "      <th>open</th>\n",
              "      <th>volume</th>\n",
              "      <th>adjClose</th>\n",
              "      <th>adjHigh</th>\n",
              "      <th>adjLow</th>\n",
              "      <th>adjOpen</th>\n",
              "      <th>adjVolume</th>\n",
              "      <th>divCash</th>\n",
              "      <th>splitFactor</th>\n",
              "    </tr>\n",
              "  </thead>\n",
              "  <tbody>\n",
              "    <tr>\n",
              "      <th>0</th>\n",
              "      <td>AAPL</td>\n",
              "      <td>2015-08-12 00:00:00+00:00</td>\n",
              "      <td>115.24</td>\n",
              "      <td>115.42</td>\n",
              "      <td>109.63</td>\n",
              "      <td>112.53</td>\n",
              "      <td>101685610</td>\n",
              "      <td>106.479554</td>\n",
              "      <td>106.645871</td>\n",
              "      <td>101.296022</td>\n",
              "      <td>103.975566</td>\n",
              "      <td>101685610</td>\n",
              "      <td>0.0</td>\n",
              "      <td>1.0</td>\n",
              "    </tr>\n",
              "    <tr>\n",
              "      <th>1</th>\n",
              "      <td>AAPL</td>\n",
              "      <td>2015-08-13 00:00:00+00:00</td>\n",
              "      <td>115.15</td>\n",
              "      <td>116.40</td>\n",
              "      <td>114.54</td>\n",
              "      <td>116.04</td>\n",
              "      <td>48535789</td>\n",
              "      <td>106.396396</td>\n",
              "      <td>107.551372</td>\n",
              "      <td>105.832768</td>\n",
              "      <td>107.218739</td>\n",
              "      <td>48535789</td>\n",
              "      <td>0.0</td>\n",
              "      <td>1.0</td>\n",
              "    </tr>\n",
              "    <tr>\n",
              "      <th>2</th>\n",
              "      <td>AAPL</td>\n",
              "      <td>2015-08-14 00:00:00+00:00</td>\n",
              "      <td>115.96</td>\n",
              "      <td>116.31</td>\n",
              "      <td>114.01</td>\n",
              "      <td>114.32</td>\n",
              "      <td>42929516</td>\n",
              "      <td>107.144821</td>\n",
              "      <td>107.468214</td>\n",
              "      <td>105.343058</td>\n",
              "      <td>105.629492</td>\n",
              "      <td>42929516</td>\n",
              "      <td>0.0</td>\n",
              "      <td>1.0</td>\n",
              "    </tr>\n",
              "    <tr>\n",
              "      <th>3</th>\n",
              "      <td>AAPL</td>\n",
              "      <td>2015-08-17 00:00:00+00:00</td>\n",
              "      <td>117.16</td>\n",
              "      <td>117.65</td>\n",
              "      <td>115.50</td>\n",
              "      <td>116.04</td>\n",
              "      <td>40884745</td>\n",
              "      <td>108.253598</td>\n",
              "      <td>108.706348</td>\n",
              "      <td>106.719789</td>\n",
              "      <td>107.218739</td>\n",
              "      <td>40884745</td>\n",
              "      <td>0.0</td>\n",
              "      <td>1.0</td>\n",
              "    </tr>\n",
              "    <tr>\n",
              "      <th>4</th>\n",
              "      <td>AAPL</td>\n",
              "      <td>2015-08-18 00:00:00+00:00</td>\n",
              "      <td>116.50</td>\n",
              "      <td>117.44</td>\n",
              "      <td>116.01</td>\n",
              "      <td>116.43</td>\n",
              "      <td>34560708</td>\n",
              "      <td>107.643770</td>\n",
              "      <td>108.512312</td>\n",
              "      <td>107.191020</td>\n",
              "      <td>107.579092</td>\n",
              "      <td>34560708</td>\n",
              "      <td>0.0</td>\n",
              "      <td>1.0</td>\n",
              "    </tr>\n",
              "  </tbody>\n",
              "</table>\n",
              "</div>"
            ],
            "text/plain": [
              "  symbol                       date   close  ...  adjVolume  divCash  splitFactor\n",
              "0   AAPL  2015-08-12 00:00:00+00:00  115.24  ...  101685610      0.0          1.0\n",
              "1   AAPL  2015-08-13 00:00:00+00:00  115.15  ...   48535789      0.0          1.0\n",
              "2   AAPL  2015-08-14 00:00:00+00:00  115.96  ...   42929516      0.0          1.0\n",
              "3   AAPL  2015-08-17 00:00:00+00:00  117.16  ...   40884745      0.0          1.0\n",
              "4   AAPL  2015-08-18 00:00:00+00:00  116.50  ...   34560708      0.0          1.0\n",
              "\n",
              "[5 rows x 14 columns]"
            ]
          },
          "metadata": {
            "tags": []
          },
          "execution_count": 7
        }
      ]
    },
    {
      "cell_type": "code",
      "metadata": {
        "id": "fZG7d3-mNHLh",
        "colab_type": "code",
        "colab": {
          "base_uri": "https://localhost:8080/",
          "height": 204
        },
        "outputId": "80fefa50-4638-46f3-ccd6-34be74a0aaeb"
      },
      "source": [
        "df.tail()"
      ],
      "execution_count": 8,
      "outputs": [
        {
          "output_type": "execute_result",
          "data": {
            "text/html": [
              "<div>\n",
              "<style scoped>\n",
              "    .dataframe tbody tr th:only-of-type {\n",
              "        vertical-align: middle;\n",
              "    }\n",
              "\n",
              "    .dataframe tbody tr th {\n",
              "        vertical-align: top;\n",
              "    }\n",
              "\n",
              "    .dataframe thead th {\n",
              "        text-align: right;\n",
              "    }\n",
              "</style>\n",
              "<table border=\"1\" class=\"dataframe\">\n",
              "  <thead>\n",
              "    <tr style=\"text-align: right;\">\n",
              "      <th></th>\n",
              "      <th>symbol</th>\n",
              "      <th>date</th>\n",
              "      <th>close</th>\n",
              "      <th>high</th>\n",
              "      <th>low</th>\n",
              "      <th>open</th>\n",
              "      <th>volume</th>\n",
              "      <th>adjClose</th>\n",
              "      <th>adjHigh</th>\n",
              "      <th>adjLow</th>\n",
              "      <th>adjOpen</th>\n",
              "      <th>adjVolume</th>\n",
              "      <th>divCash</th>\n",
              "      <th>splitFactor</th>\n",
              "    </tr>\n",
              "  </thead>\n",
              "  <tbody>\n",
              "    <tr>\n",
              "      <th>1252</th>\n",
              "      <td>AAPL</td>\n",
              "      <td>2020-08-03 00:00:00+00:00</td>\n",
              "      <td>435.75</td>\n",
              "      <td>446.5457</td>\n",
              "      <td>431.57</td>\n",
              "      <td>432.80</td>\n",
              "      <td>77037847</td>\n",
              "      <td>434.947532</td>\n",
              "      <td>445.723351</td>\n",
              "      <td>430.775230</td>\n",
              "      <td>432.002964</td>\n",
              "      <td>77037847</td>\n",
              "      <td>0.00</td>\n",
              "      <td>1.0</td>\n",
              "    </tr>\n",
              "    <tr>\n",
              "      <th>1253</th>\n",
              "      <td>AAPL</td>\n",
              "      <td>2020-08-04 00:00:00+00:00</td>\n",
              "      <td>438.66</td>\n",
              "      <td>443.1600</td>\n",
              "      <td>433.55</td>\n",
              "      <td>436.53</td>\n",
              "      <td>43198092</td>\n",
              "      <td>437.852173</td>\n",
              "      <td>442.343886</td>\n",
              "      <td>432.751583</td>\n",
              "      <td>435.726095</td>\n",
              "      <td>43198092</td>\n",
              "      <td>0.00</td>\n",
              "      <td>1.0</td>\n",
              "    </tr>\n",
              "    <tr>\n",
              "      <th>1254</th>\n",
              "      <td>AAPL</td>\n",
              "      <td>2020-08-05 00:00:00+00:00</td>\n",
              "      <td>440.25</td>\n",
              "      <td>441.5700</td>\n",
              "      <td>435.59</td>\n",
              "      <td>437.51</td>\n",
              "      <td>30497988</td>\n",
              "      <td>439.439245</td>\n",
              "      <td>440.756814</td>\n",
              "      <td>434.787826</td>\n",
              "      <td>436.704291</td>\n",
              "      <td>30497988</td>\n",
              "      <td>0.00</td>\n",
              "      <td>1.0</td>\n",
              "    </tr>\n",
              "    <tr>\n",
              "      <th>1255</th>\n",
              "      <td>AAPL</td>\n",
              "      <td>2020-08-06 00:00:00+00:00</td>\n",
              "      <td>455.61</td>\n",
              "      <td>457.6500</td>\n",
              "      <td>439.19</td>\n",
              "      <td>441.62</td>\n",
              "      <td>50607225</td>\n",
              "      <td>454.770958</td>\n",
              "      <td>456.807201</td>\n",
              "      <td>438.381197</td>\n",
              "      <td>440.806722</td>\n",
              "      <td>50607225</td>\n",
              "      <td>0.00</td>\n",
              "      <td>1.0</td>\n",
              "    </tr>\n",
              "    <tr>\n",
              "      <th>1256</th>\n",
              "      <td>AAPL</td>\n",
              "      <td>2020-08-07 00:00:00+00:00</td>\n",
              "      <td>444.45</td>\n",
              "      <td>454.7000</td>\n",
              "      <td>441.17</td>\n",
              "      <td>452.82</td>\n",
              "      <td>49511403</td>\n",
              "      <td>444.450000</td>\n",
              "      <td>454.700000</td>\n",
              "      <td>441.170000</td>\n",
              "      <td>452.820000</td>\n",
              "      <td>49511403</td>\n",
              "      <td>0.82</td>\n",
              "      <td>1.0</td>\n",
              "    </tr>\n",
              "  </tbody>\n",
              "</table>\n",
              "</div>"
            ],
            "text/plain": [
              "     symbol                       date   close  ...  adjVolume  divCash  splitFactor\n",
              "1252   AAPL  2020-08-03 00:00:00+00:00  435.75  ...   77037847     0.00          1.0\n",
              "1253   AAPL  2020-08-04 00:00:00+00:00  438.66  ...   43198092     0.00          1.0\n",
              "1254   AAPL  2020-08-05 00:00:00+00:00  440.25  ...   30497988     0.00          1.0\n",
              "1255   AAPL  2020-08-06 00:00:00+00:00  455.61  ...   50607225     0.00          1.0\n",
              "1256   AAPL  2020-08-07 00:00:00+00:00  444.45  ...   49511403     0.82          1.0\n",
              "\n",
              "[5 rows x 14 columns]"
            ]
          },
          "metadata": {
            "tags": []
          },
          "execution_count": 8
        }
      ]
    },
    {
      "cell_type": "code",
      "metadata": {
        "id": "ycQTNMS5Mf2A",
        "colab_type": "code",
        "colab": {}
      },
      "source": [
        "df1=df.reset_index()['close']"
      ],
      "execution_count": 9,
      "outputs": []
    },
    {
      "cell_type": "code",
      "metadata": {
        "id": "dBQJJ4PGMkhW",
        "colab_type": "code",
        "colab": {
          "base_uri": "https://localhost:8080/",
          "height": 34
        },
        "outputId": "181a6ac4-a8a1-4e62-c4c0-b44e747e0158"
      },
      "source": [
        "df1.shape"
      ],
      "execution_count": 10,
      "outputs": [
        {
          "output_type": "execute_result",
          "data": {
            "text/plain": [
              "(1257,)"
            ]
          },
          "metadata": {
            "tags": []
          },
          "execution_count": 10
        }
      ]
    },
    {
      "cell_type": "code",
      "metadata": {
        "id": "cqjAWJZDMohA",
        "colab_type": "code",
        "colab": {
          "base_uri": "https://localhost:8080/",
          "height": 282
        },
        "outputId": "cc60c13d-f16d-448a-e6fa-d977bfacdcea"
      },
      "source": [
        "import matplotlib.pyplot as plt\n",
        "plt.plot(df1)"
      ],
      "execution_count": 11,
      "outputs": [
        {
          "output_type": "execute_result",
          "data": {
            "text/plain": [
              "[<matplotlib.lines.Line2D at 0x7f651301a630>]"
            ]
          },
          "metadata": {
            "tags": []
          },
          "execution_count": 11
        },
        {
          "output_type": "display_data",
          "data": {
            "image/png": "[encoded data removed]",
            "text/plain": [
              "<Figure size 432x288 with 1 Axes>"
            ]
          },
          "metadata": {
            "tags": [],
            "needs_background": "light"
          }
        }
      ]
    },
    {
      "cell_type": "code",
      "metadata": {
        "id": "rDSLOJVAN5mg",
        "colab_type": "code",
        "colab": {}
      },
      "source": [
        "### LSTM are sensitive to the scale of the data.so we apply  MINMAX scaler\n",
        "import numpy as  np"
      ],
      "execution_count": 12,
      "outputs": []
    },
    {
      "cell_type": "code",
      "metadata": {
        "id": "Xwy1a5g_OsRf",
        "colab_type": "code",
        "colab": {}
      },
      "source": [
        "from sklearn.preprocessing import MinMaxScaler\n",
        "scaler=MinMaxScaler(feature_range=(0,1))\n",
        "df1=scaler.fit_transform(np.array(df1).reshape(-1,1))"
      ],
      "execution_count": 13,
      "outputs": []
    },
    {
      "cell_type": "code",
      "metadata": {
        "id": "WJ7-E78-RrVh",
        "colab_type": "code",
        "colab": {
          "base_uri": "https://localhost:8080/",
          "height": 136
        },
        "outputId": "335227c7-c9bd-4c08-bafd-9d7cadcba25f"
      },
      "source": [
        "print(df1)"
      ],
      "execution_count": 14,
      "outputs": [
        {
          "output_type": "stream",
          "text": [
            "[[0.06816875]\n",
            " [0.06792236]\n",
            " [0.0701399 ]\n",
            " ...\n",
            " [0.95794891]\n",
            " [1.        ]\n",
            " [0.96944726]]\n"
          ],
          "name": "stdout"
        }
      ]
    },
    {
      "cell_type": "code",
      "metadata": {
        "id": "uNuFjkkIPHz2",
        "colab_type": "code",
        "colab": {
          "base_uri": "https://localhost:8080/",
          "height": 34
        },
        "outputId": "dd111c00-04d5-4374-b2bb-0fb782fb1d44"
      },
      "source": [
        "df1.shape"
      ],
      "execution_count": 15,
      "outputs": [
        {
          "output_type": "execute_result",
          "data": {
            "text/plain": [
              "(1257, 1)"
            ]
          },
          "metadata": {
            "tags": []
          },
          "execution_count": 15
        }
      ]
    },
    {
      "cell_type": "code",
      "metadata": {
        "id": "0mZ2TruWPJeA",
        "colab_type": "code",
        "colab": {}
      },
      "source": [
        "### Spliting dataset into train and test split\n",
        "training_size=int(len(df1)*0.65)\n",
        "test_size=len(df1)-training_size\n",
        "train_data,test_data=df1[0:training_size,:],df1[training_size:len(df1),:1]"
      ],
      "execution_count": 16,
      "outputs": []
    },
    {
      "cell_type": "code",
      "metadata": {
        "id": "8iS-CaXWRevj",
        "colab_type": "code",
        "colab": {
          "base_uri": "https://localhost:8080/",
          "height": 34
        },
        "outputId": "12888f7c-daef-4280-9ba7-5c14e9b8060b"
      },
      "source": [
        "training_size,test_size"
      ],
      "execution_count": 17,
      "outputs": [
        {
          "output_type": "execute_result",
          "data": {
            "text/plain": [
              "(817, 440)"
            ]
          },
          "metadata": {
            "tags": []
          },
          "execution_count": 17
        }
      ]
    },
    {
      "cell_type": "code",
      "metadata": {
        "id": "C9MkUO7xPn7y",
        "colab_type": "code",
        "colab": {
          "base_uri": "https://localhost:8080/",
          "height": 1000
        },
        "outputId": "ffde2422-bb66-4914-bdf5-9bfcf0aa9164"
      },
      "source": [
        "train_data"
      ],
      "execution_count": 18,
      "outputs": [
        {
          "output_type": "execute_result",
          "data": {
            "text/plain": [
              "array([[0.06816875],\n",
              "       [0.06792236],\n",
              "       [0.0701399 ],\n",
              "       [0.07342514],\n",
              "       [0.07161825],\n",
              "       [0.06753908],\n",
              "       [0.06107811],\n",
              "       [0.04221535],\n",
              "       [0.03498782],\n",
              "       [0.03668519],\n",
              "       [0.05297451],\n",
              "       [0.06181729],\n",
              "       [0.06283024],\n",
              "       [0.06137925],\n",
              "       [0.04758124],\n",
              "       [0.06022942],\n",
              "       [0.05483615],\n",
              "       [0.05182468],\n",
              "       [0.06014729],\n",
              "       [0.05423385],\n",
              "       [0.06085909],\n",
              "       [0.06534892],\n",
              "       [0.06836039],\n",
              "       [0.07101596],\n",
              "       [0.07137186],\n",
              "       [0.06455499],\n",
              "       [0.06326827],\n",
              "       [0.06808662],\n",
              "       [0.06313138],\n",
              "       [0.06565007],\n",
              "       [0.0675117 ],\n",
              "       [0.06671777],\n",
              "       [0.06050319],\n",
              "       [0.05124976],\n",
              "       [0.05368631],\n",
              "       [0.05267336],\n",
              "       [0.05486353],\n",
              "       [0.05595861],\n",
              "       [0.05740959],\n",
              "       [0.05595861],\n",
              "       [0.05245435],\n",
              "       [0.05962713],\n",
              "       [0.05820352],\n",
              "       [0.05872368],\n",
              "       [0.05439812],\n",
              "       [0.05891532],\n",
              "       [0.05667041],\n",
              "       [0.05855942],\n",
              "       [0.06414433],\n",
              "       [0.06411695],\n",
              "       [0.06888055],\n",
              "       [0.07868152],\n",
              "       [0.06827826],\n",
              "       [0.06627974],\n",
              "       [0.07920169],\n",
              "       [0.08265119],\n",
              "       [0.07983136],\n",
              "       [0.0844307 ],\n",
              "       [0.0882361 ],\n",
              "       [0.08667561],\n",
              "       [0.08371889],\n",
              "       [0.08410217],\n",
              "       [0.0827607 ],\n",
              "       [0.07235743],\n",
              "       [0.07055055],\n",
              "       [0.06948285],\n",
              "       [0.06022942],\n",
              "       [0.0652531 ],\n",
              "       [0.06392532],\n",
              "       [0.07378104],\n",
              "       [0.07786021],\n",
              "       [0.07928382],\n",
              "       [0.07504038],\n",
              "       [0.07813398],\n",
              "       [0.07580694],\n",
              "       [0.07520464],\n",
              "       [0.07654612],\n",
              "       [0.07391792],\n",
              "       [0.07101596],\n",
              "       [0.06805924],\n",
              "       [0.07854464],\n",
              "       [0.07649136],\n",
              "       [0.07635448],\n",
              "       [0.06920908],\n",
              "       [0.07071481],\n",
              "       [0.06252909],\n",
              "       [0.0606127 ],\n",
              "       [0.05516467],\n",
              "       [0.05749172],\n",
              "       [0.05103074],\n",
              "       [0.04295453],\n",
              "       [0.04651354],\n",
              "       [0.04623977],\n",
              "       [0.0500178 ],\n",
              "       [0.04842993],\n",
              "       [0.04511731],\n",
              "       [0.0503737 ],\n",
              "       [0.04648616],\n",
              "       [0.0408465 ],\n",
              "       [0.04109289],\n",
              "       [0.03386536],\n",
              "       [0.02836258],\n",
              "       [0.01672735],\n",
              "       [0.01812358],\n",
              "       [0.02242177],\n",
              "       [0.02633668],\n",
              "       [0.01930079],\n",
              "       [0.02513209],\n",
              "       [0.01858899],\n",
              "       [0.01730227],\n",
              "       [0.01765817],\n",
              "       [0.0163167 ],\n",
              "       [0.03033373],\n",
              "       [0.02491308],\n",
              "       [0.02641881],\n",
              "       [0.00843212],\n",
              "       [0.01026638],\n",
              "       [0.01916391],\n",
              "       [0.0166726 ],\n",
              "       [0.01133408],\n",
              "       [0.01645358],\n",
              "       [0.01713801],\n",
              "       [0.01007474],\n",
              "       [0.01278506],\n",
              "       [0.01273031],\n",
              "       [0.01075916],\n",
              "       [0.00919867],\n",
              "       [0.00999261],\n",
              "       [0.01724752],\n",
              "       [0.02129931],\n",
              "       [0.01620719],\n",
              "       [0.0156049 ],\n",
              "       [0.01790456],\n",
              "       [0.011909  ],\n",
              "       [0.01576916],\n",
              "       [0.01757604],\n",
              "       [0.01798669],\n",
              "       [0.0173844 ],\n",
              "       [0.02789717],\n",
              "       [0.02849947],\n",
              "       [0.03055274],\n",
              "       [0.03468667],\n",
              "       [0.03156569],\n",
              "       [0.02926602],\n",
              "       [0.02951242],\n",
              "       [0.0296493 ],\n",
              "       [0.03263339],\n",
              "       [0.0333452 ],\n",
              "       [0.03898486],\n",
              "       [0.04279026],\n",
              "       [0.04232486],\n",
              "       [0.04265338],\n",
              "       [0.042626  ],\n",
              "       [0.04484354],\n",
              "       [0.0432283 ],\n",
              "       [0.04196895],\n",
              "       [0.04065486],\n",
              "       [0.04747173],\n",
              "       [0.05261861],\n",
              "       [0.05105812],\n",
              "       [0.05379582],\n",
              "       [0.05688942],\n",
              "       [0.05330304],\n",
              "       [0.05645139],\n",
              "       [0.04982616],\n",
              "       [0.05015468],\n",
              "       [0.05114025],\n",
              "       [0.05502779],\n",
              "       [0.05940811],\n",
              "       [0.05957237],\n",
              "       [0.05341254],\n",
              "       [0.04692419],\n",
              "       [0.0453637 ],\n",
              "       [0.045966  ],\n",
              "       [0.04279026],\n",
              "       [0.04199633],\n",
              "       [0.04035371],\n",
              "       [0.03835519],\n",
              "       [0.020478  ],\n",
              "       [0.01229228],\n",
              "       [0.00930818],\n",
              "       [0.00903441],\n",
              "       [0.01325047],\n",
              "       [0.01054015],\n",
              "       [0.00793933],\n",
              "       [0.00651573],\n",
              "       [0.00670737],\n",
              "       [0.00843212],\n",
              "       [0.00594081],\n",
              "       [0.        ],\n",
              "       [0.00049279],\n",
              "       [0.00969146],\n",
              "       [0.00862376],\n",
              "       [0.0115531 ],\n",
              "       [0.01056753],\n",
              "       [0.01335998],\n",
              "       [0.0166726 ],\n",
              "       [0.02069702],\n",
              "       [0.02540586],\n",
              "       [0.02756865],\n",
              "       [0.02740439],\n",
              "       [0.02606291],\n",
              "       [0.02223013],\n",
              "       [0.02020423],\n",
              "       [0.02075177],\n",
              "       [0.02269554],\n",
              "       [0.02379062],\n",
              "       [0.02354423],\n",
              "       [0.025488  ],\n",
              "       [0.02324308],\n",
              "       [0.01916391],\n",
              "       [0.01949243],\n",
              "       [0.01861637],\n",
              "       [0.01973882],\n",
              "       [0.01366113],\n",
              "       [0.01303146],\n",
              "       [0.01524899],\n",
              "       [0.01426342],\n",
              "       [0.01576916],\n",
              "       [0.00837736],\n",
              "       [0.00465409],\n",
              "       [0.00889753],\n",
              "       [0.01111507],\n",
              "       [0.01440031],\n",
              "       [0.01519424],\n",
              "       [0.01273031],\n",
              "       [0.01420867],\n",
              "       [0.01533112],\n",
              "       [0.01735702],\n",
              "       [0.01817833],\n",
              "       [0.01938292],\n",
              "       [0.01787719],\n",
              "       [0.02313357],\n",
              "       [0.0231062 ],\n",
              "       [0.02598078],\n",
              "       [0.02609029],\n",
              "       [0.02633668],\n",
              "       [0.0248857 ],\n",
              "       [0.02277767],\n",
              "       [0.01916391],\n",
              "       [0.01732965],\n",
              "       [0.03452241],\n",
              "       [0.03832781],\n",
              "       [0.03797191],\n",
              "       [0.04300928],\n",
              "       [0.03871109],\n",
              "       [0.04229748],\n",
              "       [0.04251649],\n",
              "       [0.04692419],\n",
              "       [0.04936075],\n",
              "       [0.05056534],\n",
              "       [0.0483478 ],\n",
              "       [0.04815616],\n",
              "       [0.04884058],\n",
              "       [0.05239959],\n",
              "       [0.05212582],\n",
              "       [0.05168779],\n",
              "       [0.05130451],\n",
              "       [0.05207107],\n",
              "       [0.04974402],\n",
              "       [0.05067484],\n",
              "       [0.04842993],\n",
              "       [0.04717059],\n",
              "       [0.04544583],\n",
              "       [0.04511731],\n",
              "       [0.0428724 ],\n",
              "       [0.04314617],\n",
              "       [0.04487092],\n",
              "       [0.04760862],\n",
              "       [0.04752649],\n",
              "       [0.04933337],\n",
              "       [0.0415583 ],\n",
              "       [0.03501519],\n",
              "       [0.04133928],\n",
              "       [0.04821091],\n",
              "       [0.05866893],\n",
              "       [0.06907219],\n",
              "       [0.06729269],\n",
              "       [0.06362417],\n",
              "       [0.06359679],\n",
              "       [0.06354204],\n",
              "       [0.06647138],\n",
              "       [0.06124237],\n",
              "       [0.06170778],\n",
              "       [0.06228269],\n",
              "       [0.06463712],\n",
              "       [0.05979139],\n",
              "       [0.06217319],\n",
              "       [0.06072221],\n",
              "       [0.0620363 ],\n",
              "       [0.06217319],\n",
              "       [0.06447286],\n",
              "       [0.06493826],\n",
              "       [0.07038629],\n",
              "       [0.07107071],\n",
              "       [0.07391792],\n",
              "       [0.07293235],\n",
              "       [0.07471186],\n",
              "       [0.07449284],\n",
              "       [0.07427382],\n",
              "       [0.07331563],\n",
              "       [0.07315137],\n",
              "       [0.07189203],\n",
              "       [0.07476661],\n",
              "       [0.07640923],\n",
              "       [0.06912695],\n",
              "       [0.0660881 ],\n",
              "       [0.06400745],\n",
              "       [0.06351466],\n",
              "       [0.05790237],\n",
              "       [0.05817614],\n",
              "       [0.05335779],\n",
              "       [0.05064747],\n",
              "       [0.05494566],\n",
              "       [0.05672516],\n",
              "       [0.05623238],\n",
              "       [0.04777288],\n",
              "       [0.04952501],\n",
              "       [0.04207846],\n",
              "       [0.04591124],\n",
              "       [0.05379582],\n",
              "       [0.05368631],\n",
              "       [0.05398746],\n",
              "       [0.05855942],\n",
              "       [0.05875106],\n",
              "       [0.05719057],\n",
              "       [0.05872368],\n",
              "       [0.05812139],\n",
              "       [0.05782024],\n",
              "       [0.0552468 ],\n",
              "       [0.05242697],\n",
              "       [0.05354943],\n",
              "       [0.05138665],\n",
              "       [0.05368631],\n",
              "       [0.05664303],\n",
              "       [0.05962713],\n",
              "       [0.06463712],\n",
              "       [0.06285761],\n",
              "       [0.06803187],\n",
              "       [0.06803187],\n",
              "       [0.06975662],\n",
              "       [0.07016727],\n",
              "       [0.07200153],\n",
              "       [0.07285022],\n",
              "       [0.07315137],\n",
              "       [0.07104334],\n",
              "       [0.07167301],\n",
              "       [0.07369891],\n",
              "       [0.07233006],\n",
              "       [0.07224793],\n",
              "       [0.06975662],\n",
              "       [0.07066006],\n",
              "       [0.07030416],\n",
              "       [0.0719194 ],\n",
              "       [0.07547841],\n",
              "       [0.07843513],\n",
              "       [0.07876365],\n",
              "       [0.08051578],\n",
              "       [0.07914693],\n",
              "       [0.07857202],\n",
              "       [0.08120021],\n",
              "       [0.08117283],\n",
              "       [0.08059791],\n",
              "       [0.08120021],\n",
              "       [0.08141922],\n",
              "       [0.08111808],\n",
              "       [0.08634709],\n",
              "       [0.08651135],\n",
              "       [0.08653872],\n",
              "       [0.08566266],\n",
              "       [0.0848961 ],\n",
              "       [0.10515509],\n",
              "       [0.1045528 ],\n",
              "       [0.10605853],\n",
              "       [0.10937115],\n",
              "       [0.1127659 ],\n",
              "       [0.11416213],\n",
              "       [0.11520245],\n",
              "       [0.11438114],\n",
              "       [0.11758425],\n",
              "       [0.12232048],\n",
              "       [0.12366195],\n",
              "       [0.12321023],\n",
              "       [0.12423687],\n",
              "       [0.12691981],\n",
              "       [0.12804227],\n",
              "       [0.1264544 ],\n",
              "       [0.1268103 ],\n",
              "       [0.12754948],\n",
              "       [0.12771375],\n",
              "       [0.13537931],\n",
              "       [0.13310702],\n",
              "       [0.13535193],\n",
              "       [0.13414734],\n",
              "       [0.13464013],\n",
              "       [0.13321652],\n",
              "       [0.13234046],\n",
              "       [0.1335998 ],\n",
              "       [0.13376406],\n",
              "       [0.13318915],\n",
              "       [0.13721357],\n",
              "       [0.13784324],\n",
              "       [0.13592685],\n",
              "       [0.13995127],\n",
              "       [0.13551619],\n",
              "       [0.13984176],\n",
              "       [0.13847291],\n",
              "       [0.13770635],\n",
              "       [0.1383634 ],\n",
              "       [0.14635749],\n",
              "       [0.14723355],\n",
              "       [0.14671339],\n",
              "       [0.14597421],\n",
              "       [0.14608372],\n",
              "       [0.14901306],\n",
              "       [0.14695978],\n",
              "       [0.14597421],\n",
              "       [0.14509815],\n",
              "       [0.14463274],\n",
              "       [0.14041668],\n",
              "       [0.14088209],\n",
              "       [0.13882881],\n",
              "       [0.14096422],\n",
              "       [0.13923947],\n",
              "       [0.13781586],\n",
              "       [0.14263422],\n",
              "       [0.14216881],\n",
              "       [0.14591946],\n",
              "       [0.14835601],\n",
              "       [0.14602896],\n",
              "       [0.14633011],\n",
              "       [0.14594683],\n",
              "       [0.1539683 ],\n",
              "       [0.15651436],\n",
              "       [0.15528239],\n",
              "       [0.15383141],\n",
              "       [0.16048403],\n",
              "       [0.17157171],\n",
              "       [0.17425466],\n",
              "       [0.17225614],\n",
              "       [0.17414515],\n",
              "       [0.18003121],\n",
              "       [0.17893613],\n",
              "       [0.17830646],\n",
              "       [0.16401566],\n",
              "       [0.17028499],\n",
              "       [0.1717086 ],\n",
              "       [0.17425466],\n",
              "       [0.1737345 ],\n",
              "       [0.17247516],\n",
              "       [0.17392614],\n",
              "       [0.17321433],\n",
              "       [0.1733786 ],\n",
              "       [0.17088729],\n",
              "       [0.17203712],\n",
              "       [0.1782517 ],\n",
              "       [0.1740904 ],\n",
              "       [0.175514  ],\n",
              "       [0.17803269],\n",
              "       [0.17699236],\n",
              "       [0.16053878],\n",
              "       [0.15079256],\n",
              "       [0.15399567],\n",
              "       [0.15008076],\n",
              "       [0.14769896],\n",
              "       [0.14216881],\n",
              "       [0.15331125],\n",
              "       [0.14967011],\n",
              "       [0.15202453],\n",
              "       [0.15136748],\n",
              "       [0.15314699],\n",
              "       [0.15188764],\n",
              "       [0.14616585],\n",
              "       [0.15191502],\n",
              "       [0.14602896],\n",
              "       [0.14695978],\n",
              "       [0.14553618],\n",
              "       [0.14715142],\n",
              "       [0.14342815],\n",
              "       [0.14739782],\n",
              "       [0.14980699],\n",
              "       [0.15109371],\n",
              "       [0.15166863],\n",
              "       [0.15722616],\n",
              "       [0.16070304],\n",
              "       [0.16212665],\n",
              "       [0.16355025],\n",
              "       [0.16612369],\n",
              "       [0.16426205],\n",
              "       [0.16407041],\n",
              "       [0.16905303],\n",
              "       [0.17083253],\n",
              "       [0.17280368],\n",
              "       [0.16486435],\n",
              "       [0.16196238],\n",
              "       [0.15985435],\n",
              "       [0.16346812],\n",
              "       [0.18287842],\n",
              "       [0.17858023],\n",
              "       [0.18082514],\n",
              "       [0.18745038],\n",
              "       [0.19092726],\n",
              "       [0.1936102 ],\n",
              "       [0.1778958 ],\n",
              "       [0.18380924],\n",
              "       [0.19029759],\n",
              "       [0.19508856],\n",
              "       [0.19330906],\n",
              "       [0.18484956],\n",
              "       [0.18386399],\n",
              "       [0.18307006],\n",
              "       [0.19010595],\n",
              "       [0.19065349],\n",
              "       [0.18870972],\n",
              "       [0.19032497],\n",
              "       [0.19473266],\n",
              "       [0.19867495],\n",
              "       [0.19987954],\n",
              "       [0.20165905],\n",
              "       [0.20179593],\n",
              "       [0.19640266],\n",
              "       [0.19593725],\n",
              "       [0.19415775],\n",
              "       [0.18695759],\n",
              "       [0.19481479],\n",
              "       [0.19306267],\n",
              "       [0.18975005],\n",
              "       [0.1859994 ],\n",
              "       [0.19037972],\n",
              "       [0.1870671 ],\n",
              "       [0.18723136],\n",
              "       [0.17994908],\n",
              "       [0.17261204],\n",
              "       [0.16850549],\n",
              "       [0.16483697],\n",
              "       [0.17192762],\n",
              "       [0.17491171],\n",
              "       [0.17231089],\n",
              "       [0.17461056],\n",
              "       [0.17376187],\n",
              "       [0.17559613],\n",
              "       [0.17285843],\n",
              "       [0.17808744],\n",
              "       [0.17784105],\n",
              "       [0.17931941],\n",
              "       [0.17948367],\n",
              "       [0.18126318],\n",
              "       [0.17975744],\n",
              "       [0.18246776],\n",
              "       [0.19037972],\n",
              "       [0.19199496],\n",
              "       [0.1900512 ],\n",
              "       [0.17970269],\n",
              "       [0.18044186],\n",
              "       [0.18022285],\n",
              "       [0.18276891],\n",
              "       [0.1808799 ],\n",
              "       [0.1836176 ],\n",
              "       [0.19905823],\n",
              "       [0.20910559],\n",
              "       [0.21545706],\n",
              "       [0.209571  ],\n",
              "       [0.212911  ],\n",
              "       [0.2249295 ],\n",
              "       [0.22972048],\n",
              "       [0.23125359],\n",
              "       [0.23516851],\n",
              "       [0.23418293],\n",
              "       [0.23087032],\n",
              "       [0.22895392],\n",
              "       [0.22175377],\n",
              "       [0.21556657],\n",
              "       [0.22109672],\n",
              "       [0.21849591],\n",
              "       [0.2180305 ],\n",
              "       [0.22668163],\n",
              "       [0.23166425],\n",
              "       [0.23169163],\n",
              "       [0.22928245],\n",
              "       [0.22648999],\n",
              "       [0.21666165],\n",
              "       [0.22315   ],\n",
              "       [0.22095984],\n",
              "       [0.21753771],\n",
              "       [0.21709968],\n",
              "       [0.21537493],\n",
              "       [0.21622362],\n",
              "       [0.2163605 ],\n",
              "       [0.22539491],\n",
              "       [0.22273934],\n",
              "       [0.22429983],\n",
              "       [0.22416295],\n",
              "       [0.22895392],\n",
              "       [0.23566129],\n",
              "       [0.23051441],\n",
              "       [0.22999425],\n",
              "       [0.23180113],\n",
              "       [0.23180113],\n",
              "       [0.21964574],\n",
              "       [0.21972787],\n",
              "       [0.22104197],\n",
              "       [0.21597722],\n",
              "       [0.22427246],\n",
              "       [0.22419032],\n",
              "       [0.22638049],\n",
              "       [0.23177376],\n",
              "       [0.22999425],\n",
              "       [0.2299395 ],\n",
              "       [0.22982999],\n",
              "       [0.23254031],\n",
              "       [0.23749555],\n",
              "       [0.23503162],\n",
              "       [0.24299833],\n",
              "       [0.24343636],\n",
              "       [0.2412462 ],\n",
              "       [0.23724916],\n",
              "       [0.23735867],\n",
              "       [0.22963835],\n",
              "       [0.2211241 ],\n",
              "       [0.22221918],\n",
              "       [0.21250034],\n",
              "       [0.20979002],\n",
              "       [0.21104936],\n",
              "       [0.21200756],\n",
              "       [0.19207709],\n",
              "       [0.18109891],\n",
              "       [0.19900348],\n",
              "       [0.1894489 ],\n",
              "       [0.17743039],\n",
              "       [0.1808799 ],\n",
              "       [0.19812741],\n",
              "       [0.20258987],\n",
              "       [0.2108851 ],\n",
              "       [0.22627098],\n",
              "       [0.22473787],\n",
              "       [0.22315   ],\n",
              "       [0.22101459],\n",
              "       [0.2249295 ],\n",
              "       [0.23314261],\n",
              "       [0.24264243],\n",
              "       [0.24105456],\n",
              "       [0.24031538],\n",
              "       [0.23177376],\n",
              "       [0.23508637],\n",
              "       [0.23675637],\n",
              "       [0.23634572],\n",
              "       [0.23185589],\n",
              "       [0.2370849 ],\n",
              "       [0.24540751],\n",
              "       [0.25017111],\n",
              "       [0.24538013],\n",
              "       [0.24119145],\n",
              "       [0.24176636],\n",
              "       [0.24004161],\n",
              "       [0.23259507],\n",
              "       [0.2324308 ],\n",
              "       [0.22156213],\n",
              "       [0.2149369 ],\n",
              "       [0.20423249],\n",
              "       [0.22566868],\n",
              "       [0.21354067],\n",
              "       [0.20844854],\n",
              "       [0.21200756],\n",
              "       [0.20899609],\n",
              "       [0.21367755],\n",
              "       [0.22249295],\n",
              "       [0.22575081],\n",
              "       [0.21365018],\n",
              "       [0.21822214],\n",
              "       [0.22698278],\n",
              "       [0.22476524],\n",
              "       [0.22941933],\n",
              "       [0.23103458],\n",
              "       [0.23401867],\n",
              "       [0.24064391],\n",
              "       [0.23954883],\n",
              "       [0.22575081],\n",
              "       [0.20636789],\n",
              "       [0.2050538 ],\n",
              "       [0.19875708],\n",
              "       [0.20070085],\n",
              "       [0.20226134],\n",
              "       [0.19705971],\n",
              "       [0.20510855],\n",
              "       [0.21562132],\n",
              "       [0.23607195],\n",
              "       [0.23694801],\n",
              "       [0.25594766],\n",
              "       [0.2595888 ],\n",
              "       [0.26202535],\n",
              "       [0.26561174],\n",
              "       [0.27294878],\n",
              "       [0.26897911],\n",
              "       [0.26777452],\n",
              "       [0.26309305],\n",
              "       [0.26785665],\n",
              "       [0.26459879],\n",
              "       [0.26273715],\n",
              "       [0.26635092],\n",
              "       [0.2650642 ],\n",
              "       [0.26834944],\n",
              "       [0.26777452],\n",
              "       [0.26895173],\n",
              "       [0.2670901 ],\n",
              "       [0.26599502],\n",
              "       [0.26427027],\n",
              "       [0.27349632],\n",
              "       [0.27784926],\n",
              "       [0.28190106],\n",
              "       [0.28373532],\n",
              "       [0.28231171],\n",
              "       [0.27749336],\n",
              "       [0.27620664],\n",
              "       [0.27908123],\n",
              "       [0.27475566],\n",
              "       [0.27502943],\n",
              "       [0.26966354],\n",
              "       [0.26938977],\n",
              "       [0.26103978],\n",
              "       [0.26325732],\n",
              "       [0.26041011],\n",
              "       [0.25893175],\n",
              "       [0.25140307],\n",
              "       [0.25759028],\n",
              "       [0.2568511 ],\n",
              "       [0.26051962],\n",
              "       [0.25945191],\n",
              "       [0.26511895],\n",
              "       [0.25619405],\n",
              "       [0.26024585],\n",
              "       [0.26728174],\n",
              "       [0.27442714],\n",
              "       [0.27379746],\n",
              "       [0.26703534],\n",
              "       [0.2756591 ],\n",
              "       [0.27648041],\n",
              "       [0.27533058],\n",
              "       [0.27680894],\n",
              "       [0.27393435],\n",
              "       [0.27798615],\n",
              "       [0.27678156],\n",
              "       [0.27724697],\n",
              "       [0.28105237],\n",
              "       [0.28603499],\n",
              "       [0.28436499],\n",
              "       [0.27552222],\n",
              "       [0.27259288],\n",
              "       [0.2736332 ],\n",
              "       [0.30432283],\n",
              "       [0.32044789],\n",
              "       [0.32209051],\n",
              "       [0.32504723],\n",
              "       [0.31968133],\n",
              "       [0.32006461],\n",
              "       [0.32452706],\n",
              "       [0.32083117],\n",
              "       [0.32449969],\n",
              "       [0.32690886],\n",
              "       [0.32825034],\n",
              "       [0.33668245],\n",
              "       [0.34834506],\n",
              "       [0.34254113],\n",
              "       [0.3413913 ],\n",
              "       [0.34141868],\n",
              "       [0.34262326],\n",
              "       [0.34445752],\n",
              "       [0.34933063],\n",
              "       [0.35414899],\n",
              "       [0.36312864],\n",
              "       [0.36874093],\n",
              "       [0.37585895],\n",
              "       [0.37785748],\n",
              "       [0.3737783 ],\n",
              "       [0.36345717],\n",
              "       [0.35852931],\n",
              "       [0.35039834],\n",
              "       [0.36551044],\n",
              "       [0.35789964],\n",
              "       [0.37251896],\n",
              "       [0.36548307],\n",
              "       [0.34916637],\n",
              "       [0.35015194],\n",
              "       [0.35050784],\n",
              "       [0.35505243],\n",
              "       [0.34856408],\n",
              "       [0.35713308],\n",
              "       [0.36096586],\n",
              "       [0.35612013],\n",
              "       [0.36852192],\n",
              "       [0.3706847 ],\n",
              "       [0.374846  ],\n",
              "       [0.38037616],\n",
              "       [0.38801435],\n",
              "       [0.37684453],\n",
              "       [0.36671503],\n",
              "       [0.36529143],\n",
              "       [0.3737783 ],\n",
              "       [0.34500506],\n",
              "       [0.33977606],\n",
              "       [0.36074684],\n",
              "       [0.34774277],\n",
              "       [0.36085635],\n",
              "       [0.35822816],\n",
              "       [0.34407425],\n",
              "       [0.35308128],\n",
              "       [0.3567498 ],\n",
              "       [0.36244422],\n",
              "       [0.34152818],\n",
              "       [0.35442276],\n",
              "       [0.3448408 ],\n",
              "       [0.33372574],\n",
              "       [0.3366277 ],\n",
              "       [0.35184932],\n",
              "       [0.36104799],\n",
              "       [0.32069428],\n",
              "       [0.30456922],\n",
              "       [0.31053741]])"
            ]
          },
          "metadata": {
            "tags": []
          },
          "execution_count": 18
        }
      ]
    },
    {
      "cell_type": "code",
      "metadata": {
        "id": "mm7T5gyqQM-P",
        "colab_type": "code",
        "colab": {}
      },
      "source": [
        "## convert  an array of value into a dataset matrix\n",
        "import numpy\n",
        "def create_data(dataset,time_step=1):\n",
        "  dataX,dataY=[],[]\n",
        "  for i in range(len(dataset)-time_step-1):\n",
        "    a=dataset[i:(i+time_step),0]  #### i=0,0,1,2,3---------99 100\n",
        "    dataX.append(a)\n",
        "    dataY.append(dataset[i + time_step,0])\n",
        "  \n",
        "  return numpy.array(dataX), numpy.array(dataY)\n",
        " "
      ],
      "execution_count": 19,
      "outputs": []
    },
    {
      "cell_type": "code",
      "metadata": {
        "id": "IkgJAO5fWdZH",
        "colab_type": "code",
        "colab": {}
      },
      "source": [
        "# reshape into X=t ,t+1,t+2,t+3 and y=t+4\n",
        "time_step=100\n",
        "X_train,y_train=create_data(train_data,time_step)\n",
        "X_test,ytest=create_data(test_data,time_step)"
      ],
      "execution_count": 20,
      "outputs": []
    },
    {
      "cell_type": "code",
      "metadata": {
        "id": "KFkcBuY2WffR",
        "colab_type": "code",
        "colab": {
          "base_uri": "https://localhost:8080/",
          "height": 136
        },
        "outputId": "548fe3a0-7d8a-4276-cbcd-7499a3fd421c"
      },
      "source": [
        "print(X_train)"
      ],
      "execution_count": 21,
      "outputs": [
        {
          "output_type": "stream",
          "text": [
            "[[0.06816875 0.06792236 0.0701399  ... 0.04648616 0.0408465  0.04109289]\n",
            " [0.06792236 0.0701399  0.07342514 ... 0.0408465  0.04109289 0.03386536]\n",
            " [0.0701399  0.07342514 0.07161825 ... 0.04109289 0.03386536 0.02836258]\n",
            " ...\n",
            " [0.27908123 0.27475566 0.27502943 ... 0.33372574 0.3366277  0.35184932]\n",
            " [0.27475566 0.27502943 0.26966354 ... 0.3366277  0.35184932 0.36104799]\n",
            " [0.27502943 0.26966354 0.26938977 ... 0.35184932 0.36104799 0.32069428]]\n"
          ],
          "name": "stdout"
        }
      ]
    },
    {
      "cell_type": "code",
      "metadata": {
        "id": "FOI67yjDc939",
        "colab_type": "code",
        "colab": {
          "base_uri": "https://localhost:8080/",
          "height": 68
        },
        "outputId": "30b3888f-d365-4513-b0ac-5563316f3ad1"
      },
      "source": [
        "print(X_train.shape),print(y_train.shape)"
      ],
      "execution_count": 22,
      "outputs": [
        {
          "output_type": "stream",
          "text": [
            "(716, 100)\n",
            "(716,)\n"
          ],
          "name": "stdout"
        },
        {
          "output_type": "execute_result",
          "data": {
            "text/plain": [
              "(None, None)"
            ]
          },
          "metadata": {
            "tags": []
          },
          "execution_count": 22
        }
      ]
    },
    {
      "cell_type": "code",
      "metadata": {
        "id": "_s0nNtZCcpqL",
        "colab_type": "code",
        "colab": {
          "base_uri": "https://localhost:8080/",
          "height": 68
        },
        "outputId": "103e7555-f42b-469c-e9a6-14ecf8c2b5c4"
      },
      "source": [
        "print(X_test.shape),print(ytest.shape)"
      ],
      "execution_count": 23,
      "outputs": [
        {
          "output_type": "stream",
          "text": [
            "(339, 100)\n",
            "(339,)\n"
          ],
          "name": "stdout"
        },
        {
          "output_type": "execute_result",
          "data": {
            "text/plain": [
              "(None, None)"
            ]
          },
          "metadata": {
            "tags": []
          },
          "execution_count": 23
        }
      ]
    },
    {
      "cell_type": "code",
      "metadata": {
        "id": "yb6sSuLYc1Ri",
        "colab_type": "code",
        "colab": {}
      },
      "source": [
        "##  reshape input to be[sample, time step,features] which is required for LSTM\n",
        "X_train=X_train.reshape(X_train.shape[0],X_train.shape[1],1)\n",
        "X_test=X_test.reshape(X_test.shape[0],X_test.shape[1],1)\n"
      ],
      "execution_count": 24,
      "outputs": []
    },
    {
      "cell_type": "code",
      "metadata": {
        "id": "CryfFzGYeULv",
        "colab_type": "code",
        "colab": {}
      },
      "source": [
        "###  Create the Stacked LSTM model\n",
        "from tensorflow.keras.models import Sequential\n",
        "from tensorflow.keras.layers import Dense\n",
        "from tensorflow.keras.layers import LSTM"
      ],
      "execution_count": 25,
      "outputs": []
    },
    {
      "cell_type": "code",
      "metadata": {
        "id": "YsFypKcgfJg5",
        "colab_type": "code",
        "colab": {}
      },
      "source": [
        "model=Sequential()\n",
        "model.add(LSTM(50,return_sequences=True,input_shape=(100,1)))\n",
        "model.add(LSTM(50,return_sequences=True))\n",
        "model.add(LSTM(50))\n",
        "model.add(Dense(1))\n",
        "model.compile(loss='mean_squared_error',optimizer='adam')"
      ],
      "execution_count": 26,
      "outputs": []
    },
    {
      "cell_type": "code",
      "metadata": {
        "id": "iOgoCjd0fwAb",
        "colab_type": "code",
        "colab": {
          "base_uri": "https://localhost:8080/",
          "height": 289
        },
        "outputId": "e1f366e0-53db-4cad-b47e-66f5e083e3c6"
      },
      "source": [
        "model.summary()"
      ],
      "execution_count": 27,
      "outputs": [
        {
          "output_type": "stream",
          "text": [
            "Model: \"sequential\"\n",
            "_________________________________________________________________\n",
            "Layer (type)                 Output Shape              Param #   \n",
            "=================================================================\n",
            "lstm (LSTM)                  (None, 100, 50)           10400     \n",
            "_________________________________________________________________\n",
            "lstm_1 (LSTM)                (None, 100, 50)           20200     \n",
            "_________________________________________________________________\n",
            "lstm_2 (LSTM)                (None, 50)                20200     \n",
            "_________________________________________________________________\n",
            "dense (Dense)                (None, 1)                 51        \n",
            "=================================================================\n",
            "Total params: 50,851\n",
            "Trainable params: 50,851\n",
            "Non-trainable params: 0\n",
            "_________________________________________________________________\n"
          ],
          "name": "stdout"
        }
      ]
    },
    {
      "cell_type": "code",
      "metadata": {
        "id": "FLecVIJvfyLr",
        "colab_type": "code",
        "colab": {
          "base_uri": "https://localhost:8080/",
          "height": 1000
        },
        "outputId": "b2b30a82-f87c-49a1-d175-f6eaa0aaf192"
      },
      "source": [
        "model.fit(X_train,y_train,validation_data=(X_test,ytest),epochs=100,batch_size=64,verbose=1)"
      ],
      "execution_count": 28,
      "outputs": [
        {
          "output_type": "stream",
          "text": [
            "Epoch 1/100\n",
            "12/12 [==============================] - 4s 301ms/step - loss: 0.0117 - val_loss: 0.0531\n",
            "Epoch 2/100\n",
            "12/12 [==============================] - 2s 207ms/step - loss: 0.0027 - val_loss: 0.0030\n",
            "Epoch 3/100\n",
            "12/12 [==============================] - 2s 208ms/step - loss: 7.7005e-04 - val_loss: 0.0025\n",
            "Epoch 4/100\n",
            "12/12 [==============================] - 3s 230ms/step - loss: 4.6673e-04 - val_loss: 0.0066\n",
            "Epoch 5/100\n",
            "12/12 [==============================] - 3s 214ms/step - loss: 3.4086e-04 - val_loss: 0.0044\n",
            "Epoch 6/100\n",
            "12/12 [==============================] - 3s 219ms/step - loss: 3.2685e-04 - val_loss: 0.0028\n",
            "Epoch 7/100\n",
            "12/12 [==============================] - 3s 249ms/step - loss: 2.8118e-04 - val_loss: 0.0031\n",
            "Epoch 8/100\n",
            "12/12 [==============================] - 3s 223ms/step - loss: 2.7845e-04 - val_loss: 0.0033\n",
            "Epoch 9/100\n",
            "12/12 [==============================] - 3s 231ms/step - loss: 2.7131e-04 - val_loss: 0.0035\n",
            "Epoch 10/100\n",
            "12/12 [==============================] - 3s 221ms/step - loss: 2.7114e-04 - val_loss: 0.0036\n",
            "Epoch 11/100\n",
            "12/12 [==============================] - 3s 219ms/step - loss: 3.0232e-04 - val_loss: 0.0028\n",
            "Epoch 12/100\n",
            "12/12 [==============================] - 3s 213ms/step - loss: 3.1983e-04 - val_loss: 0.0031\n",
            "Epoch 13/100\n",
            "12/12 [==============================] - 3s 223ms/step - loss: 2.6011e-04 - val_loss: 0.0031\n",
            "Epoch 14/100\n",
            "12/12 [==============================] - 3s 226ms/step - loss: 2.6068e-04 - val_loss: 0.0030\n",
            "Epoch 15/100\n",
            "12/12 [==============================] - 3s 212ms/step - loss: 2.6165e-04 - val_loss: 0.0029\n",
            "Epoch 16/100\n",
            "12/12 [==============================] - 3s 228ms/step - loss: 2.4493e-04 - val_loss: 0.0026\n",
            "Epoch 17/100\n",
            "12/12 [==============================] - 3s 217ms/step - loss: 2.6566e-04 - val_loss: 0.0026\n",
            "Epoch 18/100\n",
            "12/12 [==============================] - 3s 237ms/step - loss: 2.4713e-04 - val_loss: 0.0029\n",
            "Epoch 19/100\n",
            "12/12 [==============================] - 3s 237ms/step - loss: 2.4006e-04 - val_loss: 0.0028\n",
            "Epoch 20/100\n",
            "12/12 [==============================] - 3s 230ms/step - loss: 2.3429e-04 - val_loss: 0.0025\n",
            "Epoch 21/100\n",
            "12/12 [==============================] - 3s 224ms/step - loss: 2.4179e-04 - val_loss: 0.0025\n",
            "Epoch 22/100\n",
            "12/12 [==============================] - 3s 233ms/step - loss: 2.2995e-04 - val_loss: 0.0029\n",
            "Epoch 23/100\n",
            "12/12 [==============================] - 3s 238ms/step - loss: 2.2842e-04 - val_loss: 0.0027\n",
            "Epoch 24/100\n",
            "12/12 [==============================] - 3s 218ms/step - loss: 2.2548e-04 - val_loss: 0.0028\n",
            "Epoch 25/100\n",
            "12/12 [==============================] - 2s 208ms/step - loss: 2.2053e-04 - val_loss: 0.0025\n",
            "Epoch 26/100\n",
            "12/12 [==============================] - 3s 222ms/step - loss: 2.3024e-04 - val_loss: 0.0030\n",
            "Epoch 27/100\n",
            "12/12 [==============================] - 3s 223ms/step - loss: 2.2924e-04 - val_loss: 0.0022\n",
            "Epoch 28/100\n",
            "12/12 [==============================] - 2s 208ms/step - loss: 2.0822e-04 - val_loss: 0.0024\n",
            "Epoch 29/100\n",
            "12/12 [==============================] - 3s 209ms/step - loss: 2.0401e-04 - val_loss: 0.0029\n",
            "Epoch 30/100\n",
            "12/12 [==============================] - 3s 215ms/step - loss: 2.2964e-04 - val_loss: 0.0019\n",
            "Epoch 31/100\n",
            "12/12 [==============================] - 3s 213ms/step - loss: 2.2620e-04 - val_loss: 0.0030\n",
            "Epoch 32/100\n",
            "12/12 [==============================] - 2s 206ms/step - loss: 2.2372e-04 - val_loss: 0.0031\n",
            "Epoch 33/100\n",
            "12/12 [==============================] - 3s 214ms/step - loss: 2.5479e-04 - val_loss: 0.0015\n",
            "Epoch 34/100\n",
            "12/12 [==============================] - 3s 219ms/step - loss: 2.0736e-04 - val_loss: 0.0026\n",
            "Epoch 35/100\n",
            "12/12 [==============================] - 3s 222ms/step - loss: 1.9966e-04 - val_loss: 0.0022\n",
            "Epoch 36/100\n",
            "12/12 [==============================] - 2s 201ms/step - loss: 1.9576e-04 - val_loss: 0.0021\n",
            "Epoch 37/100\n",
            "12/12 [==============================] - 3s 216ms/step - loss: 1.8382e-04 - val_loss: 0.0027\n",
            "Epoch 38/100\n",
            "12/12 [==============================] - 3s 214ms/step - loss: 1.8832e-04 - val_loss: 0.0015\n",
            "Epoch 39/100\n",
            "12/12 [==============================] - 3s 214ms/step - loss: 1.9279e-04 - val_loss: 0.0023\n",
            "Epoch 40/100\n",
            "12/12 [==============================] - 2s 201ms/step - loss: 1.8312e-04 - val_loss: 0.0019\n",
            "Epoch 41/100\n",
            "12/12 [==============================] - 3s 219ms/step - loss: 1.9027e-04 - val_loss: 0.0017\n",
            "Epoch 42/100\n",
            "12/12 [==============================] - 3s 221ms/step - loss: 1.8441e-04 - val_loss: 0.0030\n",
            "Epoch 43/100\n",
            "12/12 [==============================] - 3s 216ms/step - loss: 1.9048e-04 - val_loss: 0.0016\n",
            "Epoch 44/100\n",
            "12/12 [==============================] - 3s 224ms/step - loss: 1.7021e-04 - val_loss: 0.0024\n",
            "Epoch 45/100\n",
            "12/12 [==============================] - 3s 221ms/step - loss: 1.8261e-04 - val_loss: 0.0013\n",
            "Epoch 46/100\n",
            "12/12 [==============================] - 2s 207ms/step - loss: 1.9466e-04 - val_loss: 0.0020\n",
            "Epoch 47/100\n",
            "12/12 [==============================] - 2s 205ms/step - loss: 1.9290e-04 - val_loss: 0.0019\n",
            "Epoch 48/100\n",
            "12/12 [==============================] - 2s 199ms/step - loss: 1.8308e-04 - val_loss: 0.0013\n",
            "Epoch 49/100\n",
            "12/12 [==============================] - 3s 215ms/step - loss: 1.6570e-04 - val_loss: 0.0017\n",
            "Epoch 50/100\n",
            "12/12 [==============================] - 3s 215ms/step - loss: 1.7084e-04 - val_loss: 0.0016\n",
            "Epoch 51/100\n",
            "12/12 [==============================] - 2s 208ms/step - loss: 1.6752e-04 - val_loss: 0.0012\n",
            "Epoch 52/100\n",
            "12/12 [==============================] - 2s 196ms/step - loss: 1.7493e-04 - val_loss: 0.0030\n",
            "Epoch 53/100\n",
            "12/12 [==============================] - 2s 198ms/step - loss: 1.6711e-04 - val_loss: 0.0012\n",
            "Epoch 54/100\n",
            "12/12 [==============================] - 2s 207ms/step - loss: 2.0155e-04 - val_loss: 0.0026\n",
            "Epoch 55/100\n",
            "12/12 [==============================] - 3s 210ms/step - loss: 1.6363e-04 - val_loss: 0.0012\n",
            "Epoch 56/100\n",
            "12/12 [==============================] - 2s 199ms/step - loss: 1.7685e-04 - val_loss: 0.0019\n",
            "Epoch 57/100\n",
            "12/12 [==============================] - 2s 195ms/step - loss: 1.4954e-04 - val_loss: 0.0017\n",
            "Epoch 58/100\n",
            "12/12 [==============================] - 2s 194ms/step - loss: 1.5180e-04 - val_loss: 0.0017\n",
            "Epoch 59/100\n",
            "12/12 [==============================] - 2s 195ms/step - loss: 1.5449e-04 - val_loss: 0.0020\n",
            "Epoch 60/100\n",
            "12/12 [==============================] - 2s 192ms/step - loss: 1.4282e-04 - val_loss: 0.0013\n",
            "Epoch 61/100\n",
            "12/12 [==============================] - 2s 202ms/step - loss: 1.5028e-04 - val_loss: 0.0012\n",
            "Epoch 62/100\n",
            "12/12 [==============================] - 2s 199ms/step - loss: 1.5852e-04 - val_loss: 0.0034\n",
            "Epoch 63/100\n",
            "12/12 [==============================] - 2s 200ms/step - loss: 1.9228e-04 - val_loss: 0.0013\n",
            "Epoch 64/100\n",
            "12/12 [==============================] - 3s 212ms/step - loss: 1.4329e-04 - val_loss: 0.0016\n",
            "Epoch 65/100\n",
            "12/12 [==============================] - 3s 219ms/step - loss: 1.4989e-04 - val_loss: 0.0017\n",
            "Epoch 66/100\n",
            "12/12 [==============================] - 3s 225ms/step - loss: 1.3872e-04 - val_loss: 0.0013\n",
            "Epoch 67/100\n",
            "12/12 [==============================] - 3s 224ms/step - loss: 1.4230e-04 - val_loss: 0.0014\n",
            "Epoch 68/100\n",
            "12/12 [==============================] - 3s 259ms/step - loss: 1.3747e-04 - val_loss: 0.0016\n",
            "Epoch 69/100\n",
            "12/12 [==============================] - 3s 258ms/step - loss: 1.3118e-04 - val_loss: 0.0015\n",
            "Epoch 70/100\n",
            "12/12 [==============================] - 3s 228ms/step - loss: 1.3051e-04 - val_loss: 0.0013\n",
            "Epoch 71/100\n",
            "12/12 [==============================] - 3s 212ms/step - loss: 1.3608e-04 - val_loss: 0.0013\n",
            "Epoch 72/100\n",
            "12/12 [==============================] - 2s 201ms/step - loss: 1.3385e-04 - val_loss: 0.0016\n",
            "Epoch 73/100\n",
            "12/12 [==============================] - 2s 192ms/step - loss: 1.2434e-04 - val_loss: 0.0012\n",
            "Epoch 74/100\n",
            "12/12 [==============================] - 3s 210ms/step - loss: 1.2557e-04 - val_loss: 0.0019\n",
            "Epoch 75/100\n",
            "12/12 [==============================] - 2s 195ms/step - loss: 1.2886e-04 - val_loss: 0.0015\n",
            "Epoch 76/100\n",
            "12/12 [==============================] - 2s 196ms/step - loss: 1.2217e-04 - val_loss: 0.0011\n",
            "Epoch 77/100\n",
            "12/12 [==============================] - 2s 207ms/step - loss: 1.2457e-04 - val_loss: 0.0015\n",
            "Epoch 78/100\n",
            "12/12 [==============================] - 3s 227ms/step - loss: 1.2630e-04 - val_loss: 0.0015\n",
            "Epoch 79/100\n",
            "12/12 [==============================] - 3s 247ms/step - loss: 1.2737e-04 - val_loss: 0.0012\n",
            "Epoch 80/100\n",
            "12/12 [==============================] - 2s 207ms/step - loss: 1.3384e-04 - val_loss: 0.0012\n",
            "Epoch 81/100\n",
            "12/12 [==============================] - 2s 189ms/step - loss: 1.1550e-04 - val_loss: 0.0015\n",
            "Epoch 82/100\n",
            "12/12 [==============================] - 2s 192ms/step - loss: 1.1542e-04 - val_loss: 0.0013\n",
            "Epoch 83/100\n",
            "12/12 [==============================] - 2s 192ms/step - loss: 1.0860e-04 - val_loss: 0.0010\n",
            "Epoch 84/100\n",
            "12/12 [==============================] - 2s 192ms/step - loss: 1.1018e-04 - val_loss: 9.8877e-04\n",
            "Epoch 85/100\n",
            "12/12 [==============================] - 2s 191ms/step - loss: 1.3233e-04 - val_loss: 0.0023\n",
            "Epoch 86/100\n",
            "12/12 [==============================] - 2s 202ms/step - loss: 1.3870e-04 - val_loss: 8.2369e-04\n",
            "Epoch 87/100\n",
            "12/12 [==============================] - 2s 196ms/step - loss: 1.1852e-04 - val_loss: 0.0019\n",
            "Epoch 88/100\n",
            "12/12 [==============================] - 2s 197ms/step - loss: 1.1145e-04 - val_loss: 9.0392e-04\n",
            "Epoch 89/100\n",
            "12/12 [==============================] - 2s 190ms/step - loss: 1.1419e-04 - val_loss: 0.0016\n",
            "Epoch 90/100\n",
            "12/12 [==============================] - 2s 186ms/step - loss: 1.1362e-04 - val_loss: 8.5053e-04\n",
            "Epoch 91/100\n",
            "12/12 [==============================] - 2s 193ms/step - loss: 1.1983e-04 - val_loss: 0.0017\n",
            "Epoch 92/100\n",
            "12/12 [==============================] - 2s 190ms/step - loss: 1.0625e-04 - val_loss: 8.9392e-04\n",
            "Epoch 93/100\n",
            "12/12 [==============================] - 2s 189ms/step - loss: 9.9757e-05 - val_loss: 0.0017\n",
            "Epoch 94/100\n",
            "12/12 [==============================] - 2s 196ms/step - loss: 1.0822e-04 - val_loss: 0.0014\n",
            "Epoch 95/100\n",
            "12/12 [==============================] - 2s 202ms/step - loss: 9.6940e-05 - val_loss: 9.9032e-04\n",
            "Epoch 96/100\n",
            "12/12 [==============================] - 2s 192ms/step - loss: 9.4457e-05 - val_loss: 0.0011\n",
            "Epoch 97/100\n",
            "12/12 [==============================] - 2s 204ms/step - loss: 1.0110e-04 - val_loss: 7.3798e-04\n",
            "Epoch 98/100\n",
            "12/12 [==============================] - 2s 193ms/step - loss: 1.1984e-04 - val_loss: 0.0034\n",
            "Epoch 99/100\n",
            "12/12 [==============================] - 2s 200ms/step - loss: 1.4165e-04 - val_loss: 6.8012e-04\n",
            "Epoch 100/100\n",
            "12/12 [==============================] - 2s 206ms/step - loss: 1.0339e-04 - val_loss: 0.0013\n"
          ],
          "name": "stdout"
        },
        {
          "output_type": "execute_result",
          "data": {
            "text/plain": [
              "<tensorflow.python.keras.callbacks.History at 0x7f64d4a325f8>"
            ]
          },
          "metadata": {
            "tags": []
          },
          "execution_count": 28
        }
      ]
    },
    {
      "cell_type": "code",
      "metadata": {
        "id": "-Wu9s2sKgYV_",
        "colab_type": "code",
        "colab": {}
      },
      "source": [
        "import tensorflow as tf"
      ],
      "execution_count": 29,
      "outputs": []
    },
    {
      "cell_type": "code",
      "metadata": {
        "id": "eqWMMb5HhMZ7",
        "colab_type": "code",
        "colab": {
          "base_uri": "https://localhost:8080/",
          "height": 35
        },
        "outputId": "ea9cdeae-326e-464c-9f46-efea29bba973"
      },
      "source": [
        "tf.__version__"
      ],
      "execution_count": 30,
      "outputs": [
        {
          "output_type": "execute_result",
          "data": {
            "application/vnd.google.colaboratory.intrinsic+json": {
              "type": "string"
            },
            "text/plain": [
              "'2.3.0'"
            ]
          },
          "metadata": {
            "tags": []
          },
          "execution_count": 30
        }
      ]
    },
    {
      "cell_type": "code",
      "metadata": {
        "id": "hqjidQO7hQSw",
        "colab_type": "code",
        "colab": {}
      },
      "source": [
        "### lets do the prediction and check perfomance metrics\n",
        "train_predict=model.predict(X_train)\n",
        "test_predict=model.predict(X_test)"
      ],
      "execution_count": 31,
      "outputs": []
    },
    {
      "cell_type": "code",
      "metadata": {
        "id": "mMoNmM-ehlWI",
        "colab_type": "code",
        "colab": {}
      },
      "source": [
        "### Transform to original form\n",
        "train_predict=scaler.inverse_transform(train_predict)\n",
        "test_predict=scaler.inverse_transform(test_predict)"
      ],
      "execution_count": 32,
      "outputs": []
    },
    {
      "cell_type": "code",
      "metadata": {
        "id": "60ROwqcwnbPi",
        "colab_type": "code",
        "colab": {
          "base_uri": "https://localhost:8080/",
          "height": 34
        },
        "outputId": "fa49438b-a416-4849-ae6e-9883d6f79450"
      },
      "source": [
        "###  calculate RMSE perfomance metrics\n",
        "import math \n",
        "from sklearn.metrics import mean_squared_error\n",
        "math.sqrt(mean_squared_error(y_train,train_predict))"
      ],
      "execution_count": 33,
      "outputs": [
        {
          "output_type": "execute_result",
          "data": {
            "text/plain": [
              "149.8626394689172"
            ]
          },
          "metadata": {
            "tags": []
          },
          "execution_count": 33
        }
      ]
    },
    {
      "cell_type": "code",
      "metadata": {
        "id": "cvxuQlnPnu2o",
        "colab_type": "code",
        "colab": {
          "base_uri": "https://localhost:8080/",
          "height": 34
        },
        "outputId": "20707db9-5b51-43b4-de1f-67abd531de7a"
      },
      "source": [
        "### Test Data RMSE\n",
        "math.sqrt(mean_squared_error(ytest,test_predict))"
      ],
      "execution_count": 34,
      "outputs": [
        {
          "output_type": "execute_result",
          "data": {
            "text/plain": [
              "261.25123791376035"
            ]
          },
          "metadata": {
            "tags": []
          },
          "execution_count": 34
        }
      ]
    },
    {
      "cell_type": "code",
      "metadata": {
        "id": "e2DhmmzLn5JI",
        "colab_type": "code",
        "colab": {
          "base_uri": "https://localhost:8080/",
          "height": 265
        },
        "outputId": "c42dc161-c10a-42e6-d0bd-8b5ef3544022"
      },
      "source": [
        "### plotting \n",
        "# shifitng train predictions for plotting\n",
        "look_back=100\n",
        "trainPredictPlot=numpy.empty_like(df1)\n",
        "trainPredictPlot[:,:]=np.nan\n",
        "trainPredictPlot[look_back:len(train_predict)+look_back,:]=train_predict\n",
        "## shifitng test predictions for plotting\n",
        "testPredictPlot=numpy.empty_like(df1)\n",
        "testPredictPlot[:,:]=np.nan\n",
        "testPredictPlot[len(train_predict)+(look_back*2)+1:len(df1)-1,:]=test_predict\n",
        "### Plot baseline and predictions\n",
        "plt.plot(scaler.inverse_transform(df1))\n",
        "plt.plot(testPredictPlot)\n",
        "plt.show()"
      ],
      "execution_count": 35,
      "outputs": [
        {
          "output_type": "display_data",
          "data": {
            "image/png": "[encoded data removed]",
            "text/plain": [
              "<Figure size 432x288 with 1 Axes>"
            ]
          },
          "metadata": {
            "tags": [],
            "needs_background": "light"
          }
        }
      ]
    },
    {
      "cell_type": "code",
      "metadata": {
        "id": "3u3cxNQ3qhd0",
        "colab_type": "code",
        "colab": {
          "base_uri": "https://localhost:8080/",
          "height": 34
        },
        "outputId": "ba54b5b2-649f-41d8-d573-b11603f1d7d3"
      },
      "source": [
        "len(test_data)"
      ],
      "execution_count": 36,
      "outputs": [
        {
          "output_type": "execute_result",
          "data": {
            "text/plain": [
              "440"
            ]
          },
          "metadata": {
            "tags": []
          },
          "execution_count": 36
        }
      ]
    },
    {
      "cell_type": "code",
      "metadata": {
        "id": "jaSehSYjrHe7",
        "colab_type": "code",
        "colab": {
          "base_uri": "https://localhost:8080/",
          "height": 34
        },
        "outputId": "9ed7e61d-59ff-4a8e-c97c-f8f45df34bee"
      },
      "source": [
        "X_input=test_data[341:].reshape(1,-1)\n",
        "X_input.shape"
      ],
      "execution_count": 37,
      "outputs": [
        {
          "output_type": "execute_result",
          "data": {
            "text/plain": [
              "(1, 99)"
            ]
          },
          "metadata": {
            "tags": []
          },
          "execution_count": 37
        }
      ]
    },
    {
      "cell_type": "code",
      "metadata": {
        "id": "jaFRglIIriyD",
        "colab_type": "code",
        "colab": {}
      },
      "source": [
        "temp_input=list(X_input)\n",
        "temp_input=temp_input[0].tolist()"
      ],
      "execution_count": 38,
      "outputs": []
    },
    {
      "cell_type": "code",
      "metadata": {
        "id": "wj4j2J8gsrqb",
        "colab_type": "code",
        "colab": {
          "base_uri": "https://localhost:8080/",
          "height": 1000
        },
        "outputId": "b4d3ec4d-8016-4b8d-9ee1-64f2b0c20785"
      },
      "source": [
        "temp_input"
      ],
      "execution_count": 39,
      "outputs": [
        {
          "output_type": "execute_result",
          "data": {
            "text/plain": [
              "[0.4228105237221782,\n",
              " 0.3802666520655954,\n",
              " 0.3669340487858297,\n",
              " 0.42855969556766227,\n",
              " 0.42483642237249164,\n",
              " 0.46020751772661317,\n",
              " 0.43091411832343207,\n",
              " 0.45026966353656206,\n",
              " 0.44884605907958497,\n",
              " 0.4122156213212145,\n",
              " 0.42322117885399846,\n",
              " 0.4135844717606154,\n",
              " 0.47124045226818534,\n",
              " 0.4629178415966272,\n",
              " 0.48109617543187233,\n",
              " 0.48635256111917213,\n",
              " 0.5007528677416706,\n",
              " 0.538533139869138,\n",
              " 0.5313603635666767,\n",
              " 0.5375475675527692,\n",
              " 0.5268979111342296,\n",
              " 0.5108276069756619,\n",
              " 0.48739288745311693,\n",
              " 0.5085553152462563,\n",
              " 0.505625975305938,\n",
              " 0.5273633202836259,\n",
              " 0.5279108604593863,\n",
              " 0.515344813425685,\n",
              " 0.5403947764667233,\n",
              " 0.5570126208010513,\n",
              " 0.5440632956443179,\n",
              " 0.5552604922386181,\n",
              " 0.5673063761053467,\n",
              " 0.5757111178032689,\n",
              " 0.584225367536343,\n",
              " 0.6017192761518877,\n",
              " 0.6150792564404414,\n",
              " 0.6052235332767543,\n",
              " 0.5949297779724587,\n",
              " 0.6001040326333946,\n",
              " 0.5950940400251868,\n",
              " 0.6149423713965012,\n",
              " 0.6099597557970816,\n",
              " 0.6266323541489858,\n",
              " 0.6201166260574371,\n",
              " 0.6257015358501931,\n",
              " 0.6197881019519809,\n",
              " 0.6235661291647275,\n",
              " 0.6239494072877598,\n",
              " 0.6231007200153311,\n",
              " 0.6338051304514469,\n",
              " 0.6378843047608618,\n",
              " 0.6427574123251294,\n",
              " 0.6350918498644839,\n",
              " 0.660223943931886,\n",
              " 0.6655898376543379,\n",
              " 0.6944178279081228,\n",
              " 0.7186464806855203,\n",
              " 0.6722698277986147,\n",
              " 0.6802091603471405,\n",
              " 0.6916801270293208,\n",
              " 0.7165658280176308,\n",
              " 0.7152243545870178,\n",
              " 0.7156076327100502,\n",
              " 0.7101048539436582,\n",
              " 0.7351548169846963,\n",
              " 0.7561256057163195,\n",
              " 0.7384126810304706,\n",
              " 0.7514988912311441,\n",
              " 0.7208092643797739,\n",
              " 0.74312152654201,\n",
              " 0.7513893831959921,\n",
              " 0.7495003695896187,\n",
              " 0.7495003695896187,\n",
              " 0.7761655761491499,\n",
              " 0.7729898431297397,\n",
              " 0.7967530867577408,\n",
              " 0.801242916198976,\n",
              " 0.8030771757877735,\n",
              " 0.7982314452322941,\n",
              " 0.8155337147863226,\n",
              " 0.8228433761327236,\n",
              " 0.8096750349056863,\n",
              " 0.8075396282202207,\n",
              " 0.8297697593560929,\n",
              " 0.8149040435841981,\n",
              " 0.8178881375420921,\n",
              " 0.7694034549785091,\n",
              " 0.7668847701700112,\n",
              " 0.7909217838858926,\n",
              " 0.7738659074109564,\n",
              " 0.7934404686943906,\n",
              " 0.8060338927368795,\n",
              " 0.9163084841350235,\n",
              " 0.9456292605469927,\n",
              " 0.9535959701043064,\n",
              " 0.9579489145016016,\n",
              " 1.0,\n",
              " 0.9694472581925699]"
            ]
          },
          "metadata": {
            "tags": []
          },
          "execution_count": 39
        }
      ]
    },
    {
      "cell_type": "code",
      "metadata": {
        "id": "lnQrBv6EsOeb",
        "colab_type": "code",
        "colab": {
          "base_uri": "https://localhost:8080/",
          "height": 231
        },
        "outputId": "0ffa41e1-af1f-454e-a9ee-fb3593a061ae"
      },
      "source": [
        "### Demonstrate prediction for next 10 Days\n",
        "from numpy import array\n",
        "lst_out=[]\n",
        "n_steps=100\n",
        "i=0\n",
        "while(i<30):\n",
        "\n",
        "  if (len(temp_input)>100):\n",
        "   \n",
        "    # Print(temp_input)\n",
        "    X_input=np.array(temp_input[1:])\n",
        "    print(\"{} day input {} \".format(i,X_input))\n",
        "    X_input=X_input.reshape(1,-1)\n",
        "    X_input=X_input.reshape((1,n_steps,-1))\n",
        "    #print(X_input)\n",
        "    yhat=model.predict(X_input,verbose=0)\n",
        "    print(\"{} day output {}\".format(i,yhat))\n",
        "    temp_input.extend(yhat[0].tolist())\n",
        "    temp_input=temp_input[1:]\n",
        "    #print(temp_input)\n",
        "    lst_ouput.extend(yhat.tolist())\n",
        "    i=i+1\n",
        "  else:\n",
        "    X_input=X_input.reshape((1,n_steps,-1))\n",
        "    yhat=model.predict(X_input,verbose=0)\n",
        "    print(yhat[0])\n",
        "    temp_input.extend(yhat[0].tolist())\n",
        "    print(len(temp_input))\n",
        "    lst_output.extend(yhat.tolist())\n",
        "    i=i+1\n",
        "print(lst_output)\n",
        "\n",
        "  \n",
        "\n",
        "\n",
        "\n",
        "    "
      ],
      "execution_count": 62,
      "outputs": [
        {
          "output_type": "error",
          "ename": "ValueError",
          "evalue": "ignored",
          "traceback": [
            "\u001b[0;31m---------------------------------------------------------------------------\u001b[0m",
            "\u001b[0;31mValueError\u001b[0m                                Traceback (most recent call last)",
            "\u001b[0;32m<ipython-input-62-c9d37a0cb879>\u001b[0m in \u001b[0;36m<module>\u001b[0;34m()\u001b[0m\n\u001b[1;32m     22\u001b[0m     \u001b[0mi\u001b[0m\u001b[0;34m=\u001b[0m\u001b[0mi\u001b[0m\u001b[0;34m+\u001b[0m\u001b[0;36m1\u001b[0m\u001b[0;34m\u001b[0m\u001b[0;34m\u001b[0m\u001b[0m\n\u001b[1;32m     23\u001b[0m   \u001b[0;32melse\u001b[0m\u001b[0;34m:\u001b[0m\u001b[0;34m\u001b[0m\u001b[0;34m\u001b[0m\u001b[0m\n\u001b[0;32m---> 24\u001b[0;31m     \u001b[0mX_input\u001b[0m\u001b[0;34m=\u001b[0m\u001b[0mX_input\u001b[0m\u001b[0;34m.\u001b[0m\u001b[0mreshape\u001b[0m\u001b[0;34m(\u001b[0m\u001b[0;34m(\u001b[0m\u001b[0;36m1\u001b[0m\u001b[0;34m,\u001b[0m\u001b[0mn_steps\u001b[0m\u001b[0;34m,\u001b[0m\u001b[0;34m-\u001b[0m\u001b[0;36m1\u001b[0m\u001b[0;34m)\u001b[0m\u001b[0;34m)\u001b[0m\u001b[0;34m\u001b[0m\u001b[0;34m\u001b[0m\u001b[0m\n\u001b[0m\u001b[1;32m     25\u001b[0m     \u001b[0myhat\u001b[0m\u001b[0;34m=\u001b[0m\u001b[0mmodel\u001b[0m\u001b[0;34m.\u001b[0m\u001b[0mpredict\u001b[0m\u001b[0;34m(\u001b[0m\u001b[0mX_input\u001b[0m\u001b[0;34m,\u001b[0m\u001b[0mverbose\u001b[0m\u001b[0;34m=\u001b[0m\u001b[0;36m0\u001b[0m\u001b[0;34m)\u001b[0m\u001b[0;34m\u001b[0m\u001b[0;34m\u001b[0m\u001b[0m\n\u001b[1;32m     26\u001b[0m     \u001b[0mprint\u001b[0m\u001b[0;34m(\u001b[0m\u001b[0myhat\u001b[0m\u001b[0;34m[\u001b[0m\u001b[0;36m0\u001b[0m\u001b[0;34m]\u001b[0m\u001b[0;34m)\u001b[0m\u001b[0;34m\u001b[0m\u001b[0;34m\u001b[0m\u001b[0m\n",
            "\u001b[0;31mValueError\u001b[0m: cannot reshape array of size 99 into shape (1,100,newaxis)"
          ]
        }
      ]
    },
    {
      "cell_type": "code",
      "metadata": {
        "id": "FmKYJqr_coij",
        "colab_type": "code",
        "colab": {}
      },
      "source": [
        ""
      ],
      "execution_count": null,
      "outputs": []
    }
  ]
}