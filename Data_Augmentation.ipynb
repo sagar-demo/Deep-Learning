{
  "nbformat": 4,
  "nbformat_minor": 0,
  "metadata": {
    "colab": {
      "name": "Data_Augmentation.ipynb",
      "provenance": [],
      "private_outputs": true,
      "collapsed_sections": []
    },
    "kernelspec": {
      "name": "python3",
      "display_name": "Python 3"
    },
    "accelerator": "GPU"
  },
  "cells": [
    {
      "cell_type": "code",
      "metadata": {
        "id": "09FBJWYY1vdg",
        "colab_type": "code",
        "colab": {}
      },
      "source": [
        "###Data Augmentation using python and keras\n",
        "from keras.preprocessing.image import ImageDataGenerator,array_to_img,img_to_array,load_img\n",
        "from keras.preprocessing import image\n",
        "\n",
        "img = load_img('/content/drive/My Drive/Deep_learning/data/cat.1.jpg')\n",
        "\n",
        "\n",
        "datagen=ImageDataGenerator(\n",
        "    \n",
        "    rotation_range=40,\n",
        "    width_shift_range=0.2,\n",
        "    height_shift_range=0.2,\n",
        "    shear_range=0.2,\n",
        "    zoom_range=0.2,\n",
        "    horizontal_flip=True,\n",
        "    fill_mode='nearset'\n",
        "\n",
        ")\n",
        "x=img_to_array(img)\n",
        "x=x.reshape((1,)+x.shape)"
      ],
      "execution_count": null,
      "outputs": []
    },
    {
      "cell_type": "code",
      "metadata": {
        "id": "BTs2nqclKBho",
        "colab_type": "code",
        "colab": {}
      },
      "source": [
        "i=0\n",
        "for batch in datagen.flow(x,batch_size=1,\n",
        "                          save_to_dir='save',\n",
        "                          save_prefix='cat',save_format='jpg'):\n",
        "  i+=1\n",
        "  if i>20:\n",
        "    break\n",
        "  \n",
        "\n",
        "  "
      ],
      "execution_count": null,
      "outputs": []
    },
    {
      "cell_type": "code",
      "metadata": {
        "id": "fqYSjVZcF0f1",
        "colab_type": "code",
        "colab": {}
      },
      "source": [
        ""
      ],
      "execution_count": null,
      "outputs": []
    },
    {
      "cell_type": "code",
      "metadata": {
        "id": "CxCN5raBTT6i",
        "colab_type": "code",
        "colab": {}
      },
      "source": [
        ""
      ],
      "execution_count": null,
      "outputs": []
    },
    {
      "cell_type": "code",
      "metadata": {
        "id": "ENKT1_VXVkcB",
        "colab_type": "code",
        "colab": {}
      },
      "source": [
        ""
      ],
      "execution_count": null,
      "outputs": []
    }
  ]
}